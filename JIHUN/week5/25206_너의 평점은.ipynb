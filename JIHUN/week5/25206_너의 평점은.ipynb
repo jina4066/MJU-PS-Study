{
 "cells": [
  {
   "cell_type": "code",
   "execution_count": 1,
   "metadata": {},
   "outputs": [
    {
     "ename": "ValueError",
     "evalue": "not enough values to unpack (expected 3, got 0)",
     "output_type": "error",
     "traceback": [
      "\u001b[1;31m---------------------------------------------------------------------------\u001b[0m",
      "\u001b[1;31mValueError\u001b[0m                                Traceback (most recent call last)",
      "Cell \u001b[1;32mIn[1], line 7\u001b[0m\n\u001b[0;32m      5\u001b[0m result \u001b[38;5;241m=\u001b[39m \u001b[38;5;241m0\u001b[39m\t\u001b[38;5;66;03m# (학점 * 과목평점) 총합을 담을 변수\u001b[39;00m\n\u001b[0;32m      6\u001b[0m \u001b[38;5;28;01mfor\u001b[39;00m _ \u001b[38;5;129;01min\u001b[39;00m \u001b[38;5;28mrange\u001b[39m(\u001b[38;5;241m20\u001b[39m) :\n\u001b[1;32m----> 7\u001b[0m     s, p, g \u001b[38;5;241m=\u001b[39m \u001b[38;5;28minput\u001b[39m()\u001b[38;5;241m.\u001b[39msplit()\n\u001b[0;32m      8\u001b[0m     p \u001b[38;5;241m=\u001b[39m \u001b[38;5;28mfloat\u001b[39m(p)\n\u001b[0;32m      9\u001b[0m     \u001b[38;5;28;01mif\u001b[39;00m g \u001b[38;5;241m!=\u001b[39m \u001b[38;5;124m'\u001b[39m\u001b[38;5;124mP\u001b[39m\u001b[38;5;124m'\u001b[39m :\t\u001b[38;5;66;03m# 등급이 P인 과목은 계산 안함\u001b[39;00m\n",
      "\u001b[1;31mValueError\u001b[0m: not enough values to unpack (expected 3, got 0)"
     ]
    }
   ],
   "source": [
    "rating = ['A+', 'A0', 'B+', 'B0', 'C+', 'C0', 'D+', 'D0', 'F']\n",
    "grade = [4.5, 4.0, 3.5, 3.0, 2.5, 2.0, 1.5, 1.0, 0]\n",
    "\n",
    "total = 0\t# 학점 총합을 담을 변수\n",
    "result = 0\t# (학점 * 과목평점) 총합을 담을 변수\n",
    "for _ in range(20) :\n",
    "    s, p, g = input().split()\n",
    "    p = float(p)\n",
    "    if g != 'P' :\t# 등급이 P인 과목은 계산 안함\n",
    "        total += p\n",
    "        result += p * grade[rating.index(g)]\n",
    "\n",
    "print('%.6f' % (result / total))"
   ]
  }
 ],
 "metadata": {
  "kernelspec": {
   "display_name": "Python 3",
   "language": "python",
   "name": "python3"
  },
  "language_info": {
   "codemirror_mode": {
    "name": "ipython",
    "version": 3
   },
   "file_extension": ".py",
   "mimetype": "text/x-python",
   "name": "python",
   "nbconvert_exporter": "python",
   "pygments_lexer": "ipython3",
   "version": "3.12.6"
  }
 },
 "nbformat": 4,
 "nbformat_minor": 2
}
