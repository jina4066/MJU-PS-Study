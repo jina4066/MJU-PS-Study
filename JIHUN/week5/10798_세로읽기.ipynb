{
 "cells": [
  {
   "cell_type": "code",
   "execution_count": null,
   "metadata": {},
   "outputs": [],
   "source": [
    "words = [input() for i in range(5)]\n",
    "\n",
    "for j in range(15):\n",
    "    for i in range(5):\n",
    "        if j < len(words[i]):\n",
    "            print(words[i][j], end='')"
   ]
  }
 ],
 "metadata": {
  "kernelspec": {
   "display_name": "Python 3",
   "language": "python",
   "name": "python3"
  },
  "language_info": {
   "name": "python",
   "version": "3.12.6"
  }
 },
 "nbformat": 4,
 "nbformat_minor": 2
}
