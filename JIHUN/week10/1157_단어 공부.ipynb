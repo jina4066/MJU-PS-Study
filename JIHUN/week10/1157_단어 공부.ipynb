{
 "cells": [
  {
   "cell_type": "code",
   "execution_count": null,
   "metadata": {},
   "outputs": [
    {
     "data": {
      "text/plain": [
       "'\\n알파벳 대소문자로 된 단어가 주어지면, 이 단어에서 가장 많이 사용된 알파벳이 무엇인지 알아내는 \\n프로그램을 작성하시오. 단, 대문자와 소문자를 구분하지 않는다.\\n'"
      ]
     },
     "execution_count": 1,
     "metadata": {},
     "output_type": "execute_result"
    }
   ],
   "source": [
    "from collections import Counter\n",
    "\n",
    "a = input().upper()\n",
    "\n",
    "c = Counter(a)\n",
    "max_c = max(c.values())\n",
    "\n",
    "most_common = []\n",
    "for char, count in c.items():\n",
    "    if count == max_c:\n",
    "        most_common.append(char)\n",
    "\n",
    "if len(most_common) > 1:\n",
    "    print(\"?\")\n",
    "else:\n",
    "    print(most_common[0])\n",
    "\n",
    "# B1, 30m\n",
    "# collections.Counter 사용법을 새로 알게 되었다.\n",
    "# upper 사용법을 알게 되었다.\n",
    "# Counter를 사용하면 dict 형태로 나오게 된다. 결과에 values() 함수를 사용하면 값이 나온다.\n",
    "# items() 함수에 대해 알게 되었고, 반복문 for 뒤에 두 개를 넣는 경우를 처음 써봤다.\n",
    "# most_common은 리스트 형태로, ['A', 'B']와 같은 형태이다. len() 함수를 사용하여 리스트 값 개수를 셀 수 있다.\n"
   ]
  }
 ],
 "metadata": {
  "kernelspec": {
   "display_name": "Python 3",
   "language": "python",
   "name": "python3"
  },
  "language_info": {
   "codemirror_mode": {
    "name": "ipython",
    "version": 3
   },
   "file_extension": ".py",
   "mimetype": "text/x-python",
   "name": "python",
   "nbconvert_exporter": "python",
   "pygments_lexer": "ipython3",
   "version": "3.12.6"
  }
 },
 "nbformat": 4,
 "nbformat_minor": 2
}
