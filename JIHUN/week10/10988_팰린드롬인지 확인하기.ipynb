{
 "cells": [
  {
   "cell_type": "code",
   "execution_count": 4,
   "metadata": {},
   "outputs": [
    {
     "data": {
      "text/plain": [
       "'\\n알파벳 소문자로만 이루어진 단어가 주어진다. 이때, 이 단어가 팰린드롬인지 아닌지 확인하는 프로그램을 작성하시오.\\n팰린드롬이란 앞으로 읽을 때와 거꾸로 읽을 때 똑같은 단어를 말한다. \\nlevel, noon은 팰린드롬이고, baekjoon, online, judge는 팰린드롬이 아니다.\\n'"
      ]
     },
     "execution_count": 4,
     "metadata": {},
     "output_type": "execute_result"
    }
   ],
   "source": [
    "#문제번호: 10988\n",
    "#문제이름: 팰린드롬인지 확인하기\n",
    "#문제: \n",
    "'''\n",
    "알파벳 소문자로만 이루어진 단어가 주어진다. 이때, 이 단어가 팰린드롬인지 아닌지 확인하는 프로그램을 작성하시오.\n",
    "팰린드롬이란 앞으로 읽을 때와 거꾸로 읽을 때 똑같은 단어를 말한다. \n",
    "level, noon은 팰린드롬이고, baekjoon, online, judge는 팰린드롬이 아니다.\n",
    "'''\n",
    "#팰린드롬이면 1, 아니면 0을 출력"
   ]
  },
  {
   "cell_type": "code",
   "execution_count": null,
   "metadata": {},
   "outputs": [],
   "source": [
    "t = input()\n",
    "t_list = list(t)\n",
    "c = len(t_list)\n",
    "a = c//2\n",
    "tf = \"t\"\n",
    "for i in range (a):\n",
    "    if t_list[i] != t_list[-1-i]:\n",
    "        tf = \"f\"\n",
    "        print(\"0\")\n",
    "        break\n",
    "    else:\n",
    "        tf = \"t\"\n",
    "\n",
    "if tf == \"t\":\n",
    "    print(\"1\")"
   ]
  }
 ],
 "metadata": {
  "kernelspec": {
   "display_name": "Python 3",
   "language": "python",
   "name": "python3"
  },
  "language_info": {
   "codemirror_mode": {
    "name": "ipython",
    "version": 3
   },
   "file_extension": ".py",
   "mimetype": "text/x-python",
   "name": "python",
   "nbconvert_exporter": "python",
   "pygments_lexer": "ipython3",
   "version": "3.12.6"
  }
 },
 "nbformat": 4,
 "nbformat_minor": 2
}
