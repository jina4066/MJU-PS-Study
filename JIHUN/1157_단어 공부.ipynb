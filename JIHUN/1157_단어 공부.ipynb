{
 "cells": [
  {
   "cell_type": "code",
   "execution_count": 1,
   "metadata": {},
   "outputs": [
    {
     "data": {
      "text/plain": [
       "'\\n알파벳 대소문자로 된 단어가 주어지면, 이 단어에서 가장 많이 사용된 알파벳이 무엇인지 알아내는 \\n프로그램을 작성하시오. 단, 대문자와 소문자를 구분하지 않는다.\\n'"
      ]
     },
     "execution_count": 1,
     "metadata": {},
     "output_type": "execute_result"
    }
   ],
   "source": [
    "#문제번호: 1157\n",
    "#문제이름: 단어 공부\n",
    "#문제:\n",
    "'''\n",
    "알파벳 대소문자로 된 단어가 주어지면, 이 단어에서 가장 많이 사용된 알파벳이 무엇인지 알아내는 \n",
    "프로그램을 작성하시오. 단, 대문자와 소문자를 구분하지 않는다.\n",
    "'''"
   ]
  },
  {
   "cell_type": "code",
   "execution_count": null,
   "metadata": {},
   "outputs": [],
   "source": [
    "from collections import Counter\n",
    "\n",
    "w = input(\"단어를 입력하세요: \")\n",
    "w = w.lower()\n",
    "\n",
    "w_count = Counter(w)\n",
    "\n",
    "max_count = max(w_count.values())\n",
    "\n",
    "most_common_letters = [letter for letter, count in w_count.items() if count == max_count]\n",
    "\n",
    "if len(most_common_letters) > 1:\n",
    "    result = \"?\"\n",
    "else:\n",
    "    result = most_common_letters[0].upper()\n",
    "\n",
    "print(f\"결과: {result}\")\n"
   ]
  }
 ],
 "metadata": {
  "kernelspec": {
   "display_name": "Python 3",
   "language": "python",
   "name": "python3"
  },
  "language_info": {
   "codemirror_mode": {
    "name": "ipython",
    "version": 3
   },
   "file_extension": ".py",
   "mimetype": "text/x-python",
   "name": "python",
   "nbconvert_exporter": "python",
   "pygments_lexer": "ipython3",
   "version": "3.12.6"
  }
 },
 "nbformat": 4,
 "nbformat_minor": 2
}
